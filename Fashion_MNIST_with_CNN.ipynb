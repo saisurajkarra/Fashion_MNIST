{
 "cells": [
  {
   "cell_type": "code",
   "execution_count": 1,
   "metadata": {},
   "outputs": [],
   "source": [
    "import tensorflow as tf"
   ]
  },
  {
   "cell_type": "code",
   "execution_count": 9,
   "metadata": {},
   "outputs": [
    {
     "name": "stdout",
     "output_type": "stream",
     "text": [
      "Model: \"sequential_2\"\n",
      "_________________________________________________________________\n",
      "Layer (type)                 Output Shape              Param #   \n",
      "=================================================================\n",
      "conv2d_2 (Conv2D)            (None, 26, 26, 64)        640       \n",
      "_________________________________________________________________\n",
      "max_pooling2d_2 (MaxPooling2 (None, 13, 13, 64)        0         \n",
      "_________________________________________________________________\n",
      "flatten_2 (Flatten)          (None, 10816)             0         \n",
      "_________________________________________________________________\n",
      "dense_4 (Dense)              (None, 128)               1384576   \n",
      "_________________________________________________________________\n",
      "dense_5 (Dense)              (None, 10)                1290      \n",
      "=================================================================\n",
      "Total params: 1,386,506\n",
      "Trainable params: 1,386,506\n",
      "Non-trainable params: 0\n",
      "_________________________________________________________________\n",
      "Epoch 1/15\n",
      "1875/1875 [==============================] - 40s 21ms/step - loss: 0.1316 - accuracy: 0.9607\n",
      "Epoch 2/15\n",
      "1875/1875 [==============================] - 41s 22ms/step - loss: 0.0464 - accuracy: 0.9860\n",
      "Epoch 3/15\n",
      "1875/1875 [==============================] - 40s 21ms/step - loss: 0.0282 - accuracy: 0.9910\n",
      "Epoch 4/15\n",
      "1875/1875 [==============================] - 43s 23ms/step - loss: 0.0170 - accuracy: 0.9943\n",
      "Epoch 5/15\n",
      "1875/1875 [==============================] - 44s 23ms/step - loss: 0.0124 - accuracy: 0.9957\n",
      "Epoch 6/15\n",
      "1875/1875 [==============================] - 44s 24ms/step - loss: 0.0082 - accuracy: 0.9973\n",
      "Epoch 7/15\n",
      "1875/1875 [==============================] - 44s 23ms/step - loss: 0.0067 - accuracy: 0.9978\n",
      "Epoch 8/15\n",
      "1875/1875 [==============================] - 44s 24ms/step - loss: 0.0063 - accuracy: 0.9980\n",
      "Epoch 9/15\n",
      "1873/1875 [============================>.] - ETA: 0s - loss: 0.0035 - accuracy: 0.9990\n",
      "Reached 99.8% accuracy so cancelling training!\n",
      "1875/1875 [==============================] - 44s 24ms/step - loss: 0.0035 - accuracy: 0.9990\n",
      "313/313 [==============================] - 2s 6ms/step - loss: 0.0622 - accuracy: 0.9872\n"
     ]
    }
   ],
   "source": [
    "\n",
    "\n",
    "class myCallback(tf.keras.callbacks.Callback):\n",
    "  def on_epoch_end(self, epoch, logs={}):\n",
    "    if(logs.get('accuracy')>0.998):\n",
    "      print(\"\\nReached 99.8% accuracy so cancelling training!\")\n",
    "      self.model.stop_training = True\n",
    "\n",
    "\n",
    "\n",
    "mnist = tf.keras.datasets.mnist\n",
    "(training_images, training_labels), (test_images, test_labels) = mnist.load_data()\n",
    "\n",
    "\n",
    "training_images=training_images.reshape(60000, 28, 28, 1)\n",
    "training_images=training_images / 255.0\n",
    "test_images = test_images.reshape(10000, 28, 28, 1)\n",
    "test_images=test_images/255.0\n",
    "\n",
    "\n",
    "callbacks = myCallback()\n",
    "model = tf.keras.models.Sequential([\n",
    "    \n",
    "    tf.keras.layers.Conv2D(64, (3,3), activation='relu', input_shape=(28, 28, 1)),\n",
    "    tf.keras.layers.MaxPooling2D(2, 2),\n",
    "    tf.keras.layers.Flatten(),\n",
    "    tf.keras.layers.Dense(128, activation='relu'),\n",
    "    tf.keras.layers.Dense(10, activation='softmax')\n",
    "\n",
    "    \n",
    "])\n",
    "\n",
    "\n",
    "model.compile(optimizer='adam', loss='sparse_categorical_crossentropy', metrics=['accuracy'])\n",
    "model.summary()\n",
    "model.fit(training_images, training_labels, epochs=15,callbacks=[callbacks])\n",
    "test_loss = model.evaluate(test_images, test_labels)"
   ]
  },
  {
   "cell_type": "code",
   "execution_count": null,
   "metadata": {},
   "outputs": [],
   "source": []
  },
  {
   "cell_type": "code",
   "execution_count": null,
   "metadata": {},
   "outputs": [],
   "source": []
  }
 ],
 "metadata": {
  "kernelspec": {
   "display_name": "Python 3",
   "language": "python",
   "name": "python3"
  },
  "language_info": {
   "codemirror_mode": {
    "name": "ipython",
    "version": 3
   },
   "file_extension": ".py",
   "mimetype": "text/x-python",
   "name": "python",
   "nbconvert_exporter": "python",
   "pygments_lexer": "ipython3",
   "version": "3.7.6"
  }
 },
 "nbformat": 4,
 "nbformat_minor": 4
}
